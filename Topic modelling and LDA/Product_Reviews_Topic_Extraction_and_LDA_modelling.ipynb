{
 "cells": [
  {
   "cell_type": "code",
   "execution_count": 1,
   "id": "34be2094",
   "metadata": {},
   "outputs": [],
   "source": [
    "import numpy as np\n",
    "import pandas as pd\n",
    "import re, nltk, spacy, gensim\n",
    "\n",
    "# Sklearn\n",
    "from sklearn.decomposition import LatentDirichletAllocation, TruncatedSVD\n",
    "from sklearn.feature_extraction.text import CountVectorizer, TfidfVectorizer\n",
    "from sklearn.model_selection import GridSearchCV\n",
    "from pprint import pprint\n",
    "\n",
    "# Plotting tools\n",
    "import pyLDAvis\n",
    "import pyLDAvis.sklearn\n",
    "import matplotlib.pyplot as plt\n",
    "%matplotlib inline\n",
    "\n",
    "\n",
    "import gensim #the library for Topic modelling\n",
    "from gensim.models.ldamulticore import LdaMulticore\n",
    "from gensim import corpora, models\n",
    "import pyLDAvis.gensim_models #LDA visualization library\n",
    "\n",
    "from nltk.corpus import stopwords\n",
    "import string\n",
    "from nltk.stem.wordnet import WordNetLemmatizer\n",
    "\n",
    "import warnings\n",
    "warnings.simplefilter('ignore')\n",
    "from itertools import chain"
   ]
  },
  {
   "cell_type": "code",
   "execution_count": 2,
   "id": "d20fb683",
   "metadata": {},
   "outputs": [
    {
     "data": {
      "text/html": [
       "<div>\n",
       "<style scoped>\n",
       "    .dataframe tbody tr th:only-of-type {\n",
       "        vertical-align: middle;\n",
       "    }\n",
       "\n",
       "    .dataframe tbody tr th {\n",
       "        vertical-align: top;\n",
       "    }\n",
       "\n",
       "    .dataframe thead th {\n",
       "        text-align: right;\n",
       "    }\n",
       "</style>\n",
       "<table border=\"1\" class=\"dataframe\">\n",
       "  <thead>\n",
       "    <tr style=\"text-align: right;\">\n",
       "      <th></th>\n",
       "      <th>id</th>\n",
       "      <th>asins</th>\n",
       "      <th>brand</th>\n",
       "      <th>categories</th>\n",
       "      <th>colors</th>\n",
       "      <th>dateAdded</th>\n",
       "      <th>dateUpdated</th>\n",
       "      <th>dimension</th>\n",
       "      <th>ean</th>\n",
       "      <th>keys</th>\n",
       "      <th>...</th>\n",
       "      <th>reviews.rating</th>\n",
       "      <th>reviews.sourceURLs</th>\n",
       "      <th>reviews.text</th>\n",
       "      <th>reviews.title</th>\n",
       "      <th>reviews.userCity</th>\n",
       "      <th>reviews.userProvince</th>\n",
       "      <th>reviews.username</th>\n",
       "      <th>sizes</th>\n",
       "      <th>upc</th>\n",
       "      <th>weight</th>\n",
       "    </tr>\n",
       "  </thead>\n",
       "  <tbody>\n",
       "    <tr>\n",
       "      <th>0</th>\n",
       "      <td>AVpe7AsMilAPnD_xQ78G</td>\n",
       "      <td>B00QJDU3KY</td>\n",
       "      <td>Amazon</td>\n",
       "      <td>Amazon Devices,mazon.co.uk</td>\n",
       "      <td>NaN</td>\n",
       "      <td>2016-03-08T20:21:53Z</td>\n",
       "      <td>2017-07-18T23:52:58Z</td>\n",
       "      <td>169 mm x 117 mm x 9.1 mm</td>\n",
       "      <td>NaN</td>\n",
       "      <td>kindlepaperwhite/b00qjdu3ky</td>\n",
       "      <td>...</td>\n",
       "      <td>5.0</td>\n",
       "      <td>https://www.amazon.com/Kindle-Paperwhite-High-...</td>\n",
       "      <td>I initially had trouble deciding between the p...</td>\n",
       "      <td>Paperwhite voyage, no regrets!</td>\n",
       "      <td>NaN</td>\n",
       "      <td>NaN</td>\n",
       "      <td>Cristina M</td>\n",
       "      <td>NaN</td>\n",
       "      <td>NaN</td>\n",
       "      <td>205 grams</td>\n",
       "    </tr>\n",
       "    <tr>\n",
       "      <th>1</th>\n",
       "      <td>AVpe7AsMilAPnD_xQ78G</td>\n",
       "      <td>B00QJDU3KY</td>\n",
       "      <td>Amazon</td>\n",
       "      <td>Amazon Devices,mazon.co.uk</td>\n",
       "      <td>NaN</td>\n",
       "      <td>2016-03-08T20:21:53Z</td>\n",
       "      <td>2017-07-18T23:52:58Z</td>\n",
       "      <td>169 mm x 117 mm x 9.1 mm</td>\n",
       "      <td>NaN</td>\n",
       "      <td>kindlepaperwhite/b00qjdu3ky</td>\n",
       "      <td>...</td>\n",
       "      <td>5.0</td>\n",
       "      <td>https://www.amazon.com/Kindle-Paperwhite-High-...</td>\n",
       "      <td>Allow me to preface this with a little history...</td>\n",
       "      <td>One Simply Could Not Ask For More</td>\n",
       "      <td>NaN</td>\n",
       "      <td>NaN</td>\n",
       "      <td>Ricky</td>\n",
       "      <td>NaN</td>\n",
       "      <td>NaN</td>\n",
       "      <td>205 grams</td>\n",
       "    </tr>\n",
       "    <tr>\n",
       "      <th>2</th>\n",
       "      <td>AVpe7AsMilAPnD_xQ78G</td>\n",
       "      <td>B00QJDU3KY</td>\n",
       "      <td>Amazon</td>\n",
       "      <td>Amazon Devices,mazon.co.uk</td>\n",
       "      <td>NaN</td>\n",
       "      <td>2016-03-08T20:21:53Z</td>\n",
       "      <td>2017-07-18T23:52:58Z</td>\n",
       "      <td>169 mm x 117 mm x 9.1 mm</td>\n",
       "      <td>NaN</td>\n",
       "      <td>kindlepaperwhite/b00qjdu3ky</td>\n",
       "      <td>...</td>\n",
       "      <td>4.0</td>\n",
       "      <td>https://www.amazon.com/Kindle-Paperwhite-High-...</td>\n",
       "      <td>I am enjoying it so far. Great for reading. Ha...</td>\n",
       "      <td>Great for those that just want an e-reader</td>\n",
       "      <td>NaN</td>\n",
       "      <td>NaN</td>\n",
       "      <td>Tedd Gardiner</td>\n",
       "      <td>NaN</td>\n",
       "      <td>NaN</td>\n",
       "      <td>205 grams</td>\n",
       "    </tr>\n",
       "    <tr>\n",
       "      <th>3</th>\n",
       "      <td>AVpe7AsMilAPnD_xQ78G</td>\n",
       "      <td>B00QJDU3KY</td>\n",
       "      <td>Amazon</td>\n",
       "      <td>Amazon Devices,mazon.co.uk</td>\n",
       "      <td>NaN</td>\n",
       "      <td>2016-03-08T20:21:53Z</td>\n",
       "      <td>2017-07-18T23:52:58Z</td>\n",
       "      <td>169 mm x 117 mm x 9.1 mm</td>\n",
       "      <td>NaN</td>\n",
       "      <td>kindlepaperwhite/b00qjdu3ky</td>\n",
       "      <td>...</td>\n",
       "      <td>5.0</td>\n",
       "      <td>https://www.amazon.com/Kindle-Paperwhite-High-...</td>\n",
       "      <td>I bought one of the first Paperwhites and have...</td>\n",
       "      <td>Love / Hate relationship</td>\n",
       "      <td>NaN</td>\n",
       "      <td>NaN</td>\n",
       "      <td>Dougal</td>\n",
       "      <td>NaN</td>\n",
       "      <td>NaN</td>\n",
       "      <td>205 grams</td>\n",
       "    </tr>\n",
       "    <tr>\n",
       "      <th>4</th>\n",
       "      <td>AVpe7AsMilAPnD_xQ78G</td>\n",
       "      <td>B00QJDU3KY</td>\n",
       "      <td>Amazon</td>\n",
       "      <td>Amazon Devices,mazon.co.uk</td>\n",
       "      <td>NaN</td>\n",
       "      <td>2016-03-08T20:21:53Z</td>\n",
       "      <td>2017-07-18T23:52:58Z</td>\n",
       "      <td>169 mm x 117 mm x 9.1 mm</td>\n",
       "      <td>NaN</td>\n",
       "      <td>kindlepaperwhite/b00qjdu3ky</td>\n",
       "      <td>...</td>\n",
       "      <td>5.0</td>\n",
       "      <td>https://www.amazon.com/Kindle-Paperwhite-High-...</td>\n",
       "      <td>I have to say upfront - I don't like coroporat...</td>\n",
       "      <td>I LOVE IT</td>\n",
       "      <td>NaN</td>\n",
       "      <td>NaN</td>\n",
       "      <td>Miljan David Tanic</td>\n",
       "      <td>NaN</td>\n",
       "      <td>NaN</td>\n",
       "      <td>205 grams</td>\n",
       "    </tr>\n",
       "  </tbody>\n",
       "</table>\n",
       "<p>5 rows × 27 columns</p>\n",
       "</div>"
      ],
      "text/plain": [
       "                     id       asins   brand                  categories  \\\n",
       "0  AVpe7AsMilAPnD_xQ78G  B00QJDU3KY  Amazon  Amazon Devices,mazon.co.uk   \n",
       "1  AVpe7AsMilAPnD_xQ78G  B00QJDU3KY  Amazon  Amazon Devices,mazon.co.uk   \n",
       "2  AVpe7AsMilAPnD_xQ78G  B00QJDU3KY  Amazon  Amazon Devices,mazon.co.uk   \n",
       "3  AVpe7AsMilAPnD_xQ78G  B00QJDU3KY  Amazon  Amazon Devices,mazon.co.uk   \n",
       "4  AVpe7AsMilAPnD_xQ78G  B00QJDU3KY  Amazon  Amazon Devices,mazon.co.uk   \n",
       "\n",
       "  colors             dateAdded           dateUpdated  \\\n",
       "0    NaN  2016-03-08T20:21:53Z  2017-07-18T23:52:58Z   \n",
       "1    NaN  2016-03-08T20:21:53Z  2017-07-18T23:52:58Z   \n",
       "2    NaN  2016-03-08T20:21:53Z  2017-07-18T23:52:58Z   \n",
       "3    NaN  2016-03-08T20:21:53Z  2017-07-18T23:52:58Z   \n",
       "4    NaN  2016-03-08T20:21:53Z  2017-07-18T23:52:58Z   \n",
       "\n",
       "                  dimension  ean                         keys  ...  \\\n",
       "0  169 mm x 117 mm x 9.1 mm  NaN  kindlepaperwhite/b00qjdu3ky  ...   \n",
       "1  169 mm x 117 mm x 9.1 mm  NaN  kindlepaperwhite/b00qjdu3ky  ...   \n",
       "2  169 mm x 117 mm x 9.1 mm  NaN  kindlepaperwhite/b00qjdu3ky  ...   \n",
       "3  169 mm x 117 mm x 9.1 mm  NaN  kindlepaperwhite/b00qjdu3ky  ...   \n",
       "4  169 mm x 117 mm x 9.1 mm  NaN  kindlepaperwhite/b00qjdu3ky  ...   \n",
       "\n",
       "  reviews.rating                                 reviews.sourceURLs  \\\n",
       "0            5.0  https://www.amazon.com/Kindle-Paperwhite-High-...   \n",
       "1            5.0  https://www.amazon.com/Kindle-Paperwhite-High-...   \n",
       "2            4.0  https://www.amazon.com/Kindle-Paperwhite-High-...   \n",
       "3            5.0  https://www.amazon.com/Kindle-Paperwhite-High-...   \n",
       "4            5.0  https://www.amazon.com/Kindle-Paperwhite-High-...   \n",
       "\n",
       "                                        reviews.text  \\\n",
       "0  I initially had trouble deciding between the p...   \n",
       "1  Allow me to preface this with a little history...   \n",
       "2  I am enjoying it so far. Great for reading. Ha...   \n",
       "3  I bought one of the first Paperwhites and have...   \n",
       "4  I have to say upfront - I don't like coroporat...   \n",
       "\n",
       "                                reviews.title reviews.userCity  \\\n",
       "0              Paperwhite voyage, no regrets!              NaN   \n",
       "1           One Simply Could Not Ask For More              NaN   \n",
       "2  Great for those that just want an e-reader              NaN   \n",
       "3                    Love / Hate relationship              NaN   \n",
       "4                                   I LOVE IT              NaN   \n",
       "\n",
       "  reviews.userProvince    reviews.username  sizes upc     weight  \n",
       "0                  NaN          Cristina M    NaN NaN  205 grams  \n",
       "1                  NaN               Ricky    NaN NaN  205 grams  \n",
       "2                  NaN       Tedd Gardiner    NaN NaN  205 grams  \n",
       "3                  NaN              Dougal    NaN NaN  205 grams  \n",
       "4                  NaN  Miljan David Tanic    NaN NaN  205 grams  \n",
       "\n",
       "[5 rows x 27 columns]"
      ]
     },
     "execution_count": 2,
     "metadata": {},
     "output_type": "execute_result"
    }
   ],
   "source": [
    "data = pd.read_csv('product_review.csv')\n",
    "df=pd.DataFrame(data)\n",
    "df.head(5)"
   ]
  },
  {
   "cell_type": "code",
   "execution_count": 3,
   "id": "30ed8809",
   "metadata": {},
   "outputs": [
    {
     "data": {
      "text/plain": [
       "(1597, 27)"
      ]
     },
     "execution_count": 3,
     "metadata": {},
     "output_type": "execute_result"
    }
   ],
   "source": [
    "df.shape"
   ]
  },
  {
   "cell_type": "code",
   "execution_count": 4,
   "id": "b42a501d",
   "metadata": {},
   "outputs": [
    {
     "data": {
      "text/plain": [
       "id                         0\n",
       "asins                      0\n",
       "brand                      0\n",
       "categories                 0\n",
       "colors                   823\n",
       "dateAdded                  0\n",
       "dateUpdated                0\n",
       "dimension               1032\n",
       "ean                      699\n",
       "keys                       0\n",
       "manufacturer             632\n",
       "manufacturerNumber       695\n",
       "name                       0\n",
       "prices                     0\n",
       "reviews.date             380\n",
       "reviews.doRecommend     1058\n",
       "reviews.numHelpful       697\n",
       "reviews.rating           420\n",
       "reviews.sourceURLs         0\n",
       "reviews.text               0\n",
       "reviews.title             17\n",
       "reviews.userCity        1597\n",
       "reviews.userProvince    1597\n",
       "reviews.username          17\n",
       "sizes                   1597\n",
       "upc                      699\n",
       "weight                   911\n",
       "dtype: int64"
      ]
     },
     "execution_count": 4,
     "metadata": {},
     "output_type": "execute_result"
    }
   ],
   "source": [
    "df.isna().sum()"
   ]
  },
  {
   "cell_type": "code",
   "execution_count": 5,
   "id": "74c8cb57",
   "metadata": {},
   "outputs": [],
   "source": [
    "df_title= df['reviews.title']"
   ]
  },
  {
   "cell_type": "code",
   "execution_count": 6,
   "id": "ca2aef2b",
   "metadata": {},
   "outputs": [
    {
     "data": {
      "text/plain": [
       "(1597,)"
      ]
     },
     "execution_count": 6,
     "metadata": {},
     "output_type": "execute_result"
    }
   ],
   "source": [
    "df_title.shape"
   ]
  },
  {
   "cell_type": "code",
   "execution_count": 7,
   "id": "2efaaac3",
   "metadata": {},
   "outputs": [
    {
     "data": {
      "text/plain": [
       "17"
      ]
     },
     "execution_count": 7,
     "metadata": {},
     "output_type": "execute_result"
    }
   ],
   "source": [
    "df_title.isna().sum()"
   ]
  },
  {
   "cell_type": "code",
   "execution_count": 8,
   "id": "586c245e",
   "metadata": {},
   "outputs": [],
   "source": [
    "df_title.dropna(inplace=True)"
   ]
  },
  {
   "cell_type": "code",
   "execution_count": 9,
   "id": "f14a9699",
   "metadata": {},
   "outputs": [
    {
     "data": {
      "text/plain": [
       "0"
      ]
     },
     "execution_count": 9,
     "metadata": {},
     "output_type": "execute_result"
    }
   ],
   "source": [
    "df_title.isna().sum()"
   ]
  },
  {
   "cell_type": "code",
   "execution_count": 10,
   "id": "10e89e2e",
   "metadata": {},
   "outputs": [
    {
     "name": "stdout",
     "output_type": "stream",
     "text": [
      "Head\n",
      " 0                Paperwhite voyage, no regrets!\n",
      "1             One Simply Could Not Ask For More\n",
      "2    Great for those that just want an e-reader\n",
      "3                      Love / Hate relationship\n",
      "4                                     I LOVE IT\n",
      "Name: reviews.title, dtype: object\n",
      "-----------------------------------------------------------------------\n",
      "Tail\n",
      " 1592    I would be disappointed with myself if i produ...\n",
      "1593                          Battery draining remote!!!!\n",
      "1594        replacing an even worse remote. Waste of time\n",
      "1595                                           Overpriced\n",
      "1596    I am sending all of this crap back to amazon a...\n",
      "Name: reviews.title, dtype: object\n"
     ]
    }
   ],
   "source": [
    "print('Head\\n',df_title.head(5))\n",
    "\n",
    "print('-----------------------------------------------------------------------')\n",
    "\n",
    "print('Tail\\n',df_title.tail(5))"
   ]
  },
  {
   "cell_type": "code",
   "execution_count": 11,
   "id": "c989bd13",
   "metadata": {},
   "outputs": [],
   "source": [
    "df_title= df_title.reset_index(drop=True)"
   ]
  },
  {
   "cell_type": "code",
   "execution_count": 12,
   "id": "1a1bd6b5",
   "metadata": {},
   "outputs": [
    {
     "name": "stdout",
     "output_type": "stream",
     "text": [
      "HEAD\n",
      " 0                Paperwhite voyage, no regrets!\n",
      "1             One Simply Could Not Ask For More\n",
      "2    Great for those that just want an e-reader\n",
      "3                      Love / Hate relationship\n",
      "4                                     I LOVE IT\n",
      "Name: reviews.title, dtype: object\n",
      "------------------------------------------------------------------\n",
      "TAIL\n",
      " 1575    I would be disappointed with myself if i produ...\n",
      "1576                          Battery draining remote!!!!\n",
      "1577        replacing an even worse remote. Waste of time\n",
      "1578                                           Overpriced\n",
      "1579    I am sending all of this crap back to amazon a...\n",
      "Name: reviews.title, dtype: object\n"
     ]
    }
   ],
   "source": [
    "print('HEAD\\n',df_title.head(5))\n",
    "print('------------------------------------------------------------------')\n",
    "print('TAIL\\n',df_title.tail(5))"
   ]
  },
  {
   "cell_type": "code",
   "execution_count": 13,
   "id": "53e81b2f",
   "metadata": {},
   "outputs": [],
   "source": [
    "stop= set(stopwords.words('english'))\n",
    "exclude = set(string.punctuation)\n",
    "lemma = WordNetLemmatizer()\n",
    "\n",
    "def clean(text):\n",
    "    stop_free = ' '.join([word for word in text.lower().split() if word not in stop])\n",
    "    punc_free = ''.join(ch for ch in stop_free if ch not in exclude)\n",
    "    normalized = ' '.join([lemma.lemmatize(word) for word in punc_free.split()])\n",
    "    return normalized.split()"
   ]
  },
  {
   "cell_type": "code",
   "execution_count": 14,
   "id": "de357e33",
   "metadata": {},
   "outputs": [],
   "source": [
    "df_title = df_title.apply(clean)"
   ]
  },
  {
   "cell_type": "code",
   "execution_count": 15,
   "id": "4fe7b738",
   "metadata": {},
   "outputs": [
    {
     "data": {
      "text/plain": [
       "0    [paperwhite, voyage, regret]\n",
       "1       [one, simply, could, ask]\n",
       "Name: reviews.title, dtype: object"
      ]
     },
     "execution_count": 15,
     "metadata": {},
     "output_type": "execute_result"
    }
   ],
   "source": [
    "df_title.head(2)"
   ]
  },
  {
   "cell_type": "code",
   "execution_count": 16,
   "id": "8fbc1c4d",
   "metadata": {},
   "outputs": [],
   "source": [
    "#Gensim Model for Topics"
   ]
  },
  {
   "cell_type": "code",
   "execution_count": 17,
   "id": "f41e6de8",
   "metadata": {},
   "outputs": [],
   "source": [
    "# #create dictionary\n",
    "# dictionary = corpora.Dictionary(df['reviews.title'])\n",
    "# #Total number of non-zeroes in the BOW matrix (sum of the number of unique words per document over the entire corpus).\n",
    "# print(dictionary.num_nnz)"
   ]
  },
  {
   "cell_type": "code",
   "execution_count": 18,
   "id": "350766ab",
   "metadata": {},
   "outputs": [],
   "source": [
    "# doc_term_matrix = [dictionary.doc2bow(doc) for doc in df['Feedback_clean'] ]\n",
    "# print(len(doc_term_matrix))"
   ]
  },
  {
   "cell_type": "code",
   "execution_count": 19,
   "id": "98f2ec6c",
   "metadata": {},
   "outputs": [],
   "source": [
    "lda = gensim.models.ldamodel.LdaModel"
   ]
  },
  {
   "cell_type": "code",
   "execution_count": 20,
   "id": "d7a6cf4d",
   "metadata": {},
   "outputs": [],
   "source": [
    "# num_topics=5\n",
    "# %time \n",
    "# ldamodel = lda(doc_term_matrix,num_topics=num_topics,id2word=dictionary,passes=50,minimum_probability=0)"
   ]
  },
  {
   "cell_type": "code",
   "execution_count": 21,
   "id": "667a7bae",
   "metadata": {},
   "outputs": [],
   "source": [
    "# Topics=ldamodel.print_topics(num_topics=num_topics)"
   ]
  },
  {
   "cell_type": "code",
   "execution_count": 22,
   "id": "c93d348d",
   "metadata": {},
   "outputs": [],
   "source": [
    "df_title=df_title.astype(str)"
   ]
  },
  {
   "cell_type": "code",
   "execution_count": 23,
   "id": "c8de21be",
   "metadata": {},
   "outputs": [
    {
     "data": {
      "text/plain": [
       "0    ['paperwhite', 'voyage', 'regret']\n",
       "1     ['one', 'simply', 'could', 'ask']\n",
       "Name: reviews.title, dtype: object"
      ]
     },
     "execution_count": 23,
     "metadata": {},
     "output_type": "execute_result"
    }
   ],
   "source": [
    "df_title.head(2)"
   ]
  },
  {
   "cell_type": "code",
   "execution_count": 24,
   "id": "9236bcfd",
   "metadata": {},
   "outputs": [
    {
     "data": {
      "text/plain": [
       "1580"
      ]
     },
     "execution_count": 24,
     "metadata": {},
     "output_type": "execute_result"
    }
   ],
   "source": [
    "len(df_title)"
   ]
  },
  {
   "cell_type": "code",
   "execution_count": 25,
   "id": "8ba962f4",
   "metadata": {},
   "outputs": [],
   "source": [
    "vectorizer = CountVectorizer(analyzer='word',                  # minimum reqd occurences of a word \n",
    "                             stop_words='english',             # remove stop words\n",
    "                             lowercase=True,                   # convert all words to lowercase\n",
    "                             token_pattern='[a-zA-Z]{3,}',     # num chars > 3\n",
    "                             max_features=50000)               # max number of uniq words\n",
    "                            "
   ]
  },
  {
   "cell_type": "code",
   "execution_count": 26,
   "id": "ce0818a2",
   "metadata": {},
   "outputs": [],
   "source": [
    "data_vectorized = vectorizer.fit_transform(df_title)"
   ]
  },
  {
   "cell_type": "code",
   "execution_count": 27,
   "id": "48d8f348",
   "metadata": {
    "scrolled": true
   },
   "outputs": [
    {
     "name": "stdout",
     "output_type": "stream",
     "text": [
      "  (0, 530)\t1\n",
      "  (0, 826)\t1\n",
      "  (0, 620)\t1\n",
      "  (1, 684)\t1\n",
      "  (1, 44)\t1\n",
      "  (2, 326)\t1\n",
      "  (2, 828)\t1\n",
      "  (2, 239)\t1\n",
      "  (3, 447)\t1\n",
      "  (3, 336)\t1\n",
      "  (3, 623)\t1\n",
      "  (4, 447)\t1\n",
      "  (5, 326)\t1\n",
      "  (5, 193)\t1\n",
      "  (5, 608)\t1\n",
      "  (5, 538)\t1\n",
      "  (5, 342)\t2\n",
      "  (5, 638)\t1\n",
      "  (5, 858)\t1\n",
      "  (6, 684)\t1\n",
      "  (6, 44)\t1\n",
      "  (6, 538)\t1\n",
      "  (6, 342)\t2\n",
      "  (6, 638)\t1\n",
      "  (6, 858)\t1\n",
      "  :\t:\n",
      "  (1573, 153)\t1\n",
      "  (1573, 309)\t1\n",
      "  (1573, 630)\t1\n",
      "  (1573, 508)\t1\n",
      "  (1574, 157)\t1\n",
      "  (1574, 626)\t1\n",
      "  (1574, 824)\t1\n",
      "  (1574, 561)\t1\n",
      "  (1575, 626)\t1\n",
      "  (1575, 200)\t1\n",
      "  (1575, 581)\t1\n",
      "  (1576, 60)\t1\n",
      "  (1576, 626)\t1\n",
      "  (1576, 214)\t1\n",
      "  (1577, 773)\t1\n",
      "  (1577, 626)\t1\n",
      "  (1577, 631)\t1\n",
      "  (1577, 832)\t1\n",
      "  (1577, 849)\t1\n",
      "  (1578, 524)\t1\n",
      "  (1579, 26)\t1\n",
      "  (1579, 663)\t1\n",
      "  (1579, 168)\t1\n",
      "  (1579, 100)\t1\n",
      "  (1579, 738)\t1\n"
     ]
    }
   ],
   "source": [
    "print(data_vectorized)"
   ]
  },
  {
   "cell_type": "code",
   "execution_count": 28,
   "id": "55c05abe",
   "metadata": {},
   "outputs": [
    {
     "data": {
      "text/plain": [
       "7378"
      ]
     },
     "execution_count": 28,
     "metadata": {},
     "output_type": "execute_result"
    }
   ],
   "source": [
    "data_vectorized.getnnz(axis=None)"
   ]
  },
  {
   "cell_type": "code",
   "execution_count": 29,
   "id": "76b48de6",
   "metadata": {},
   "outputs": [
    {
     "name": "stdout",
     "output_type": "stream",
     "text": [
      "Sparsicity:  0.5423484614592982 %\n"
     ]
    }
   ],
   "source": [
    "data_dense = data_vectorized.todense()\n",
    "\n",
    "# Compute Sparsicity = Percentage of Non-Zero cells\n",
    "print(\"Sparsicity: \", ((data_dense > 0).sum()/data_dense.size)*100, \"%\")"
   ]
  },
  {
   "cell_type": "code",
   "execution_count": 30,
   "id": "1f140153",
   "metadata": {},
   "outputs": [
    {
     "name": "stdout",
     "output_type": "stream",
     "text": [
      "LatentDirichletAllocation(batch_size=3, learning_method='online', max_iter=13,\n",
      "                          n_components=5, n_jobs=-1, random_state=100)\n"
     ]
    }
   ],
   "source": [
    "lda_model = LatentDirichletAllocation(n_components=5,               # Number of topics\n",
    "                                      max_iter=13,               # Max learning iterations\n",
    "                                      learning_method='online',   \n",
    "                                      random_state=100,          # Random state\n",
    "                                      batch_size=3,            # n docs in each learning iter\n",
    "                                      evaluate_every = -1,       # compute perplexity every n iters, default: Don't\n",
    "                                      n_jobs = -1,               # Use all available CPUs\n",
    "                                     )\n",
    "lda_output = lda_model.fit_transform(data_vectorized)\n",
    "\n",
    "print(lda_model)  # Model attributes"
   ]
  },
  {
   "cell_type": "code",
   "execution_count": 31,
   "id": "0d15705e",
   "metadata": {},
   "outputs": [
    {
     "data": {
      "text/plain": [
       "1580"
      ]
     },
     "execution_count": 31,
     "metadata": {},
     "output_type": "execute_result"
    }
   ],
   "source": [
    "len(lda_output)"
   ]
  },
  {
   "cell_type": "code",
   "execution_count": 32,
   "id": "a465fd23",
   "metadata": {},
   "outputs": [
    {
     "data": {
      "text/plain": [
       "array([[0.05000189, 0.05000361, 0.05000448, 0.79998677, 0.05000325],\n",
       "       [0.06667138, 0.06667542, 0.40054693, 0.39943184, 0.06667442],\n",
       "       [0.05000124, 0.55051075, 0.05000282, 0.05000249, 0.2994827 ],\n",
       "       ...,\n",
       "       [0.03333445, 0.19880916, 0.70118545, 0.03333561, 0.03333534],\n",
       "       [0.59996193, 0.10001262, 0.10000988, 0.10000826, 0.10000731],\n",
       "       [0.03333425, 0.03333512, 0.69981959, 0.03333518, 0.20017586]])"
      ]
     },
     "execution_count": 32,
     "metadata": {},
     "output_type": "execute_result"
    }
   ],
   "source": [
    "lda_output"
   ]
  },
  {
   "cell_type": "code",
   "execution_count": 33,
   "id": "a0cb79a4",
   "metadata": {},
   "outputs": [
    {
     "name": "stdout",
     "output_type": "stream",
     "text": [
      "Log Likelihood:  -40369.63165255857\n",
      "Perplexity:  166.54407117079913\n",
      "{'batch_size': 3,\n",
      " 'doc_topic_prior': None,\n",
      " 'evaluate_every': -1,\n",
      " 'learning_decay': 0.7,\n",
      " 'learning_method': 'online',\n",
      " 'learning_offset': 10.0,\n",
      " 'max_doc_update_iter': 100,\n",
      " 'max_iter': 13,\n",
      " 'mean_change_tol': 0.001,\n",
      " 'n_components': 5,\n",
      " 'n_jobs': -1,\n",
      " 'perp_tol': 0.1,\n",
      " 'random_state': 100,\n",
      " 'topic_word_prior': None,\n",
      " 'total_samples': 1000000.0,\n",
      " 'verbose': 0}\n"
     ]
    }
   ],
   "source": [
    "print(\"Log Likelihood: \", lda_model.score(data_vectorized))\n",
    "\n",
    "# Perplexity: Lower the better. Perplexity = exp(-1. * log-likelihood per word)\n",
    "print(\"Perplexity: \", lda_model.perplexity(data_vectorized))\n",
    "\n",
    "# See model parameters\n",
    "pprint(lda_model.get_params())"
   ]
  },
  {
   "cell_type": "code",
   "execution_count": 34,
   "id": "ded32818",
   "metadata": {},
   "outputs": [
    {
     "data": {
      "text/html": [
       "\n",
       "<link rel=\"stylesheet\" type=\"text/css\" href=\"https://cdn.jsdelivr.net/gh/bmabey/pyLDAvis@3.3.1/pyLDAvis/js/ldavis.v1.0.0.css\">\n",
       "\n",
       "\n",
       "<div id=\"ldavis_el169522695527882640836813104\"></div>\n",
       "<script type=\"text/javascript\">\n",
       "\n",
       "var ldavis_el169522695527882640836813104_data = {\"mdsDat\": {\"x\": [150.22215270996094, 51.16336441040039, -73.1445541381836, -66.4101333618164, 54.41732406616211], \"y\": [-72.2695541381836, -159.968017578125, 21.523815155029297, -110.60643768310547, 12.44344425201416], \"topics\": [1, 2, 3, 4, 5], \"cluster\": [1, 1, 1, 1, 1], \"Freq\": [33.597833303266675, 18.00969505820545, 17.673897715164102, 16.16479035583173, 14.553783567532042]}, \"tinfo\": {\"Term\": [\"helpful\", \"great\", \"review\", \"yes\", \"people\", \"awesome\", \"use\", \"issue\", \"product\", \"longevity\", \"amazon\", \"speaker\", \"tablet\", \"good\", \"hate\", \"tap\", \"brain\", \"shove\", \"nice\", \"headphone\", \"love\", \"work\", \"best\", \"sound\", \"price\", \"echo\", \"everyday\", \"say\", \"excellent\", \"goto\", \"helpful\", \"review\", \"yes\", \"people\", \"love\", \"like\", \"amazoncom\", \"commented\", \"official\", \"person\", \"nontechie\", \"decent\", \"better\", \"inexpensive\", \"entrylevel\", \"amazonbut\", \"important\", \"overpriced\", \"surprise\", \"headphone\", \"wife\", \"entry\", \"level\", \"stand\", \"hitechlove\", \"connect\", \"exception\", \"god\", \"holster\", \"magnetic\", \"oasis\", \"color\", \"great\", \"tablet\", \"work\", \"best\", \"price\", \"device\", \"value\", \"upgrade\", \"entire\", \"instead\", \"line\", \"performance\", \"single\", \"skip\", \"little\", \"case\", \"flaw\", \"critical\", \"need\", \"improved\", \"significantly\", \"way\", \"cover\", \"look\", \"know\", \"thats\", \"time\", \"replacement\", \"problem\", \"aesthetic\", \"dot\", \"feature\", \"use\", \"amazon\", \"speaker\", \"hate\", \"brain\", \"shove\", \"sound\", \"everyday\", \"say\", \"goto\", \"kindle\", \"updated\", \"star\", \"portable\", \"fun\", \"box\", \"game\", \"content\", \"bluetooth\", \"tip\", \"demand\", \"park\", \"refreshed\", \"knocked\", \"changer\", \"hbo\", \"easy\", \"home\", \"addition\", \"read\", \"headphone\", \"awesome\", \"issue\", \"longevity\", \"tap\", \"echo\", \"excellent\", \"alexa\", \"new\", \"buy\", \"perfect\", \"prime\", \"happier\", \"unreal\", \"download\", \"music\", \"worth\", \"compare\", \"competition\", \"favorably\", \"rdgeneration\", \"kid\", \"paperwhite\", \"protection\", \"homework\", \"power\", \"reader\", \"streaming\", \"far\", \"companion\", \"lot\", \"thing\", \"good\", \"headphone\", \"product\", \"nice\", \"remote\", \"display\", \"battery\", \"hdx\", \"amazing\", \"update\", \"year\", \"screen\", \"gift\", \"short\", \"quality\", \"life\", \"apri\", \"devicefell\", \"modelbeautiful\", \"sharp\", \"version\", \"glad\", \"voice\", \"kept\", \"enlarged\", \"hog\", \"component\", \"internal\", \"nicer\", \"kfhd\", \"got\", \"disappointed\", \"good\", \"feature\"], \"Freq\": [787.0, 357.0, 444.0, 395.0, 375.0, 116.0, 111.0, 87.0, 78.0, 82.0, 76.0, 75.0, 68.0, 89.0, 59.0, 56.0, 58.0, 58.0, 49.0, 189.0, 81.0, 49.0, 47.0, 46.0, 46.0, 43.0, 44.0, 43.0, 40.0, 41.0, 786.377081032417, 443.36229088312086, 395.0174258679221, 374.78752373987095, 80.81834793263333, 27.88504516172092, 24.437453421422916, 24.437453421422916, 24.437453421422916, 22.727949559655446, 15.847177550250239, 15.95266986965549, 16.43998389414145, 13.576668652919924, 12.657160741864983, 12.244443552875438, 11.074717247362912, 4.324613410950189, 2.6495801583861316, 146.13099801280336, 2.235973524438458, 1.6488396389423006, 1.6488396389392663, 1.6382758583323356, 1.4955135941662292, 1.4848973650849437, 1.4670454870982732, 1.5028316387578702, 1.506795182579916, 1.506795182579887, 2.8890483158029947, 6.616653127850715, 356.32272140206584, 68.11416050820627, 48.54430534266148, 47.24826708227305, 46.04476119852846, 33.4033157526759, 31.117613697744915, 31.992338927047374, 28.672052673351924, 26.846082539513432, 25.490112940169837, 25.89552140827117, 24.522433292427838, 24.522433292427838, 18.34890594465191, 17.907653158450838, 17.798909792733294, 12.768893591962028, 11.753484447785587, 11.3483992029735, 11.3483992029735, 9.009310242643407, 8.862351375540769, 8.586373479466477, 7.775570973369934, 7.762956808876514, 8.080645306136676, 7.710062108313832, 7.648474587853406, 7.13543139044441, 7.165794627616979, 8.165262368010897, 111.05286595637928, 75.35973547417113, 74.57191572297228, 59.0562048700361, 57.675636770202324, 57.675636770202324, 46.16584995625174, 43.54288205535086, 42.60908258558456, 41.19309545611194, 35.871673569719725, 33.14999719087353, 28.93991829554722, 25.75336499543665, 24.32200783029536, 21.92457067779878, 18.02550907185014, 17.10858132669187, 16.885933068801698, 16.619138835685035, 15.854342743742336, 15.854342743742336, 15.854342743742336, 15.854342743742336, 15.85434274374233, 14.600198994418701, 12.95064607828876, 10.917982260374677, 7.800130635968381, 6.787561912099112, 32.41774368707688, 116.0939436627513, 86.62308111797073, 81.98551934925786, 55.789526650366575, 42.2595922220192, 39.67168784482624, 35.88011346451473, 34.597860067039626, 27.258852573433305, 23.148547323480656, 23.132773828443106, 22.76272223302567, 22.118573259736877, 17.023280563788678, 16.05947053036112, 15.158321354038893, 14.090182146263192, 13.887052551579957, 13.258019990457653, 13.258019990457653, 11.036845255138093, 9.789626503754768, 8.946237764574509, 8.836422768458583, 8.327299956014919, 7.738373194060747, 7.13146736137809, 7.05899054277216, 6.899578632294789, 6.8601981550744, 7.236310080182674, 63.40557140789285, 10.531324947938414, 78.10884248529736, 48.65984274834289, 30.86445868065212, 25.99948969834135, 25.523763821762252, 21.39370629245603, 19.686280515423665, 19.578529315178418, 16.96159769568862, 16.652854685642026, 15.636395496773474, 15.55965944390455, 15.675169990984008, 15.162552088008844, 12.427437311453229, 12.427437311453229, 12.427437311453229, 12.356323374437755, 11.144963974297886, 9.53316065466447, 8.833898953655662, 8.831589485257377, 8.32068564173582, 8.32068564173582, 8.320685641735817, 8.320685641735817, 8.320685641735809, 8.126492287687725, 8.000420290290178, 7.556978825384693, 25.927167928602245, 9.121758457471381], \"Total\": [787.0, 357.0, 444.0, 395.0, 375.0, 116.0, 111.0, 87.0, 78.0, 82.0, 76.0, 75.0, 68.0, 89.0, 59.0, 56.0, 58.0, 58.0, 49.0, 189.0, 81.0, 49.0, 47.0, 46.0, 46.0, 43.0, 44.0, 43.0, 40.0, 41.0, 787.1266131441081, 444.1113192490885, 395.7669870480272, 375.5376277440244, 81.57372802836429, 28.635409231583036, 25.179966800746055, 25.179966800746055, 25.179966800746055, 23.472486790751592, 16.58951218013267, 16.70310947516239, 17.2144710209284, 14.326624679930799, 13.401703549540933, 12.986764149563072, 11.81703733790066, 5.085769640432348, 3.3977534216257723, 189.46879126696064, 2.984202991937822, 2.39683274617007, 2.396832746170133, 2.381576723661982, 2.2387571715510353, 2.2281368539484787, 2.20975194246024, 2.2675514169916338, 2.274752009442157, 2.27475200944216, 4.848653280333155, 14.103472034020967, 357.06708169870365, 68.88305761214242, 49.28383945353508, 47.98886557846007, 46.78688064861018, 34.14528084749649, 31.85473844656035, 32.755566645820934, 29.411461215806376, 27.583439090677153, 26.22736191464826, 26.672600501233177, 25.25944150601968, 25.25944150601968, 19.094299657513492, 18.647173014235292, 18.535393793366104, 13.505181761119172, 12.494539454277545, 12.084740076039983, 12.084740076039983, 9.749824634724476, 9.604520485924377, 9.325198626415444, 8.513350329106064, 8.500853765121192, 8.851044319100406, 8.452769163935312, 8.39837514120985, 7.87081624529322, 7.905653229937175, 17.832614352312625, 111.81334508717805, 76.12766352871805, 75.33236818235164, 59.817279519147206, 58.43684579658813, 58.43684579658813, 46.927216182889104, 44.302974356322075, 43.36946295021036, 41.95382233409366, 36.63364657598173, 33.90769743991934, 29.700165593325085, 26.512937448005435, 25.080458378216587, 22.68243402447131, 18.78152833178927, 17.864909479095328, 17.644556483741656, 17.374928812864514, 16.609863737575083, 16.609863737575083, 16.609863737575083, 16.609863737575086, 16.609863737575083, 15.355750739976575, 13.718795271357658, 11.680647906108748, 8.563029020548283, 7.5476846960277575, 189.46879126696064, 116.85076948595622, 87.38170912838886, 82.7435609899056, 56.54402759350166, 43.01434003576927, 40.42603701645034, 36.63411546749119, 35.36719376332694, 28.011994201700073, 23.90255382455815, 23.888177198221303, 23.519570592340134, 22.875941848121702, 17.77918615410881, 16.815465553327243, 15.90841787780614, 14.843479935696612, 14.638230092626888, 14.00932720186366, 14.00932720186366, 11.792834856997803, 10.541695041896276, 9.69691059023016, 9.588072301136258, 9.079714099496838, 8.495304606437797, 7.888418073600985, 7.815154293392895, 7.649771679135111, 7.61573016979227, 8.036595920908429, 89.89394959871301, 189.46879126696064, 78.8488664431966, 49.4002665188161, 31.606708316543557, 26.73688939825832, 26.260120819047387, 22.14069936415841, 20.424841561028728, 20.317110907232944, 17.69817182914382, 17.389163185404872, 16.372780155235283, 16.29663994911068, 16.420870263481387, 15.899424317665087, 13.164352151736164, 13.164352151736164, 13.164352151736164, 13.094386083722753, 11.881920617260622, 10.270376294974835, 9.570905545216839, 9.568703415361242, 9.056590833606577, 9.056590833606577, 9.05659083360658, 9.05659083360658, 9.056590833606576, 8.863829770832487, 8.749787426111482, 8.292487535444877, 89.89394959871301, 17.832614352312625], \"Category\": [\"Default\", \"Default\", \"Default\", \"Default\", \"Default\", \"Default\", \"Default\", \"Default\", \"Default\", \"Default\", \"Default\", \"Default\", \"Default\", \"Default\", \"Default\", \"Default\", \"Default\", \"Default\", \"Default\", \"Default\", \"Default\", \"Default\", \"Default\", \"Default\", \"Default\", \"Default\", \"Default\", \"Default\", \"Default\", \"Default\", \"Topic1\", \"Topic1\", \"Topic1\", \"Topic1\", \"Topic1\", \"Topic1\", \"Topic1\", \"Topic1\", \"Topic1\", \"Topic1\", \"Topic1\", \"Topic1\", \"Topic1\", \"Topic1\", \"Topic1\", \"Topic1\", \"Topic1\", \"Topic1\", \"Topic1\", \"Topic1\", \"Topic1\", \"Topic1\", \"Topic1\", \"Topic1\", \"Topic1\", \"Topic1\", \"Topic1\", \"Topic1\", \"Topic1\", \"Topic1\", \"Topic1\", \"Topic1\", \"Topic2\", \"Topic2\", \"Topic2\", \"Topic2\", \"Topic2\", \"Topic2\", \"Topic2\", \"Topic2\", \"Topic2\", \"Topic2\", \"Topic2\", \"Topic2\", \"Topic2\", \"Topic2\", \"Topic2\", \"Topic2\", \"Topic2\", \"Topic2\", \"Topic2\", \"Topic2\", \"Topic2\", \"Topic2\", \"Topic2\", \"Topic2\", \"Topic2\", \"Topic2\", \"Topic2\", \"Topic2\", \"Topic2\", \"Topic2\", \"Topic2\", \"Topic2\", \"Topic3\", \"Topic3\", \"Topic3\", \"Topic3\", \"Topic3\", \"Topic3\", \"Topic3\", \"Topic3\", \"Topic3\", \"Topic3\", \"Topic3\", \"Topic3\", \"Topic3\", \"Topic3\", \"Topic3\", \"Topic3\", \"Topic3\", \"Topic3\", \"Topic3\", \"Topic3\", \"Topic3\", \"Topic3\", \"Topic3\", \"Topic3\", \"Topic3\", \"Topic3\", \"Topic3\", \"Topic3\", \"Topic3\", \"Topic3\", \"Topic3\", \"Topic4\", \"Topic4\", \"Topic4\", \"Topic4\", \"Topic4\", \"Topic4\", \"Topic4\", \"Topic4\", \"Topic4\", \"Topic4\", \"Topic4\", \"Topic4\", \"Topic4\", \"Topic4\", \"Topic4\", \"Topic4\", \"Topic4\", \"Topic4\", \"Topic4\", \"Topic4\", \"Topic4\", \"Topic4\", \"Topic4\", \"Topic4\", \"Topic4\", \"Topic4\", \"Topic4\", \"Topic4\", \"Topic4\", \"Topic4\", \"Topic4\", \"Topic4\", \"Topic4\", \"Topic5\", \"Topic5\", \"Topic5\", \"Topic5\", \"Topic5\", \"Topic5\", \"Topic5\", \"Topic5\", \"Topic5\", \"Topic5\", \"Topic5\", \"Topic5\", \"Topic5\", \"Topic5\", \"Topic5\", \"Topic5\", \"Topic5\", \"Topic5\", \"Topic5\", \"Topic5\", \"Topic5\", \"Topic5\", \"Topic5\", \"Topic5\", \"Topic5\", \"Topic5\", \"Topic5\", \"Topic5\", \"Topic5\", \"Topic5\", \"Topic5\", \"Topic5\"], \"logprob\": [30.0, 29.0, 28.0, 27.0, 26.0, 25.0, 24.0, 23.0, 22.0, 21.0, 20.0, 19.0, 18.0, 17.0, 16.0, 15.0, 14.0, 13.0, 12.0, 11.0, 10.0, 9.0, 8.0, 7.0, 6.0, 5.0, 4.0, 3.0, 2.0, 1.0, -1.2155, -1.7885, -1.904, -1.9565, -3.4907, -4.5548, -4.6868, -4.6868, -4.6868, -4.7593, -5.1199, -5.1133, -5.0832, -5.2745, -5.3447, -5.3778, -5.4782, -6.4186, -6.9085, -2.8984, -7.0782, -7.3828, -7.3828, -7.3893, -7.4804, -7.4876, -7.4996, -7.4755, -7.4729, -7.4729, -6.822, -5.9933, -1.3835, -3.0382, -3.3769, -3.4039, -3.4297, -3.7507, -3.8216, -3.7938, -3.9034, -3.9692, -4.0211, -4.0053, -4.0598, -4.0598, -4.3498, -4.3741, -4.3802, -4.7123, -4.7952, -4.8303, -4.8303, -5.0611, -5.0775, -5.1092, -5.2084, -5.21, -5.1699, -5.2168, -5.2248, -5.2943, -5.29, -5.1595, -2.5305, -2.9183, -2.9288, -3.162, -3.1857, -3.1857, -3.4083, -3.4668, -3.4885, -3.5223, -3.6606, -3.7395, -3.8753, -3.992, -4.0491, -4.1529, -4.3487, -4.4009, -4.414, -4.43, -4.4771, -4.4771, -4.4771, -4.4771, -4.4771, -4.5595, -4.6794, -4.8501, -5.1864, -5.3254, -3.7618, -2.3969, -2.6897, -2.7447, -3.1297, -3.4074, -3.4706, -3.5711, -3.6075, -3.8459, -4.0093, -4.01, -4.0261, -4.0549, -4.3167, -4.375, -4.4327, -4.5058, -4.5203, -4.5667, -4.5667, -4.75, -4.8699, -4.96, -4.9724, -5.0317, -5.1051, -5.1868, -5.197, -5.2198, -5.2255, -5.1722, -3.0017, -4.7969, -2.6882, -3.1614, -3.6167, -3.7882, -3.8067, -3.9832, -4.0664, -4.0719, -4.2153, -4.2337, -4.2967, -4.3016, -4.2942, -4.3275, -4.5264, -4.5264, -4.5264, -4.5321, -4.6353, -4.7915, -4.8677, -4.868, -4.9275, -4.9275, -4.9275, -4.9275, -4.9275, -4.9512, -4.9668, -5.0238, -3.791, -4.8356], \"loglift\": [30.0, 29.0, 28.0, 27.0, 26.0, 25.0, 24.0, 23.0, 22.0, 21.0, 20.0, 19.0, 18.0, 17.0, 16.0, 15.0, 14.0, 13.0, 12.0, 11.0, 10.0, 9.0, 8.0, 7.0, 6.0, 5.0, 4.0, 3.0, 2.0, 1.0, 1.0898, 1.089, 1.0888, 1.0887, 1.0814, 1.0642, 1.0608, 1.0608, 1.0608, 1.0585, 1.0449, 1.0447, 1.0447, 1.0369, 1.0335, 1.0319, 1.0258, 0.9286, 0.842, 0.831, 0.8021, 0.7166, 0.7166, 0.7166, 0.6873, 0.6849, 0.6811, 0.6794, 0.6788, 0.6788, 0.5729, 0.3339, 1.7122, 1.703, 1.6991, 1.6987, 1.6983, 1.6923, 1.6908, 1.6907, 1.6888, 1.6872, 1.6857, 1.6847, 1.6846, 1.6846, 1.6744, 1.6738, 1.6737, 1.6582, 1.6531, 1.6514, 1.6514, 1.6353, 1.6338, 1.6317, 1.6236, 1.6235, 1.6232, 1.6223, 1.6207, 1.6162, 1.616, 0.9331, 1.7263, 1.7229, 1.7229, 1.7203, 1.72, 1.72, 1.7167, 1.7158, 1.7154, 1.7148, 1.7121, 1.7105, 1.7072, 1.704, 1.7024, 1.6991, 1.692, 1.6898, 1.6891, 1.6886, 1.6865, 1.6865, 1.6865, 1.6865, 1.6865, 1.6826, 1.6755, 1.6656, 1.6398, 1.6269, -0.0324, 1.8158, 1.8136, 1.8131, 1.8089, 1.8046, 1.8035, 1.8015, 1.8003, 1.7951, 1.7903, 1.7902, 1.7896, 1.7887, 1.7789, 1.7763, 1.774, 1.7703, 1.7697, 1.7672, 1.7672, 1.7561, 1.7483, 1.7418, 1.7407, 1.7358, 1.729, 1.7215, 1.7206, 1.7191, 1.7179, 1.7174, 1.4733, -1.0675, 1.9179, 1.9122, 1.9036, 1.8994, 1.8989, 1.893, 1.8905, 1.8903, 1.8848, 1.8841, 1.8813, 1.881, 1.8808, 1.8799, 1.8697, 1.8697, 1.8697, 1.8693, 1.8633, 1.8528, 1.8472, 1.8472, 1.8426, 1.8426, 1.8426, 1.8426, 1.8426, 1.8405, 1.8378, 1.8344, 0.684, 1.257]}, \"token.table\": {\"Topic\": [3, 2, 4, 5, 3, 1, 1, 5, 4, 5, 2, 1, 3, 3, 3, 4, 2, 3, 1, 5, 1, 4, 4, 4, 5, 1, 3, 2, 2, 1, 3, 2, 5, 5, 5, 2, 4, 3, 4, 5, 2, 1, 1, 3, 4, 1, 4, 4, 2, 5, 2, 3, 3, 5, 5, 1, 4, 5, 5, 3, 2, 4, 3, 3, 5, 1, 3, 4, 1, 1, 5, 1, 3, 4, 1, 2, 1, 2, 5, 4, 5, 5, 4, 3, 3, 2, 1, 5, 1, 2, 2, 4, 2, 4, 1, 1, 5, 4, 2, 4, 5, 5, 1, 1, 4, 1, 1, 4, 3, 1, 4, 2, 1, 3, 4, 2, 4, 2, 5, 4, 5, 4, 3, 4, 3, 5, 2, 1, 3, 5, 5, 5, 3, 2, 2, 2, 3, 3, 1, 3, 4, 1, 2, 4, 2, 4, 2, 3, 4, 5, 3, 2, 3, 2, 5, 5, 2, 1, 2, 4, 5, 1], \"Freq\": [0.9342488482525039, 0.8893613802997914, 0.9826905751811068, 0.9791997622229129, 0.985187204277028, 0.9240177046261158, 0.9531386673348953, 0.9115526432052636, 0.9927191794311764, 0.9900944545975313, 0.9793938538337958, 0.9294505756551036, 0.9634699526544873, 0.9699135452687726, 0.9925244802207713, 0.9638728255327622, 0.9652937732844953, 0.9632830378857691, 0.4963316822350068, 0.4963316822350068, 0.9531386673348953, 0.9150599904952229, 0.9431750546805299, 0.9563997772552874, 0.8833345954323283, 0.44880546642720853, 0.9515861258570941, 0.9370587540720732, 0.9625934867034839, 0.9579054740551203, 0.9632830378857691, 0.966458590497127, 0.9115526432052636, 0.964728613194209, 0.9724392247997883, 0.8854423279650514, 0.95617425075845, 0.9476050733945733, 0.9764185609978956, 0.8833345954323284, 0.9860101743062922, 0.8344345274804117, 0.9700259337884927, 0.9931613089025288, 0.9894613212698299, 0.45253948227629764, 0.8956956877892936, 0.9279531995134364, 0.44861621756332765, 0.5046932447587437, 0.9711150569912508, 0.9569203097517942, 0.9583884592359574, 0.9772317131421273, 0.9736741588419573, 0.8820086658292429, 0.700825809537041, 0.2892296991740169, 0.9143079266275733, 0.9772649479587814, 0.9970115371777563, 0.9779090102729449, 0.9863370663842109, 0.976832735435694, 0.9484795242735201, 0.7705754547950152, 0.16889325036603073, 0.058057054813323065, 0.9985687014956743, 0.4466764027414323, 0.8833345954323284, 0.8792167197559547, 0.9417285829022565, 0.938666263387838, 0.930859375786164, 0.9102388575000747, 0.9772015609239526, 0.9788482107412652, 0.8833345954323283, 0.9956317044814491, 0.9405663034295465, 0.9025444087751974, 0.9327697821082147, 0.9827031531063258, 0.9632830378857689, 0.9397005515735698, 0.8344345274803898, 0.9434303846670864, 0.9778103666532476, 0.9532029977455428, 0.9426897201184914, 0.9910136694504081, 0.9651268954749923, 0.9191502119869531, 0.9929667548335563, 0.8792167197559537, 0.9115526432052636, 0.9515050266826607, 0.960419553190635, 0.9896176732091283, 0.9918974826043976, 0.8833345954323286, 0.964464767032833, 0.6187285059479171, 0.20624283531597237, 0.9531386673348953, 0.786508293297365, 0.9486140473857956, 0.9632830378857691, 0.9985683784944425, 0.9622402764498393, 0.9747830924396712, 0.9798706121356618, 0.9806533150462352, 0.8810850113048524, 0.9831815962572928, 0.9628193817028686, 0.9525652123760142, 0.9892342593941014, 0.9281306573113799, 0.9743697954658733, 0.9279531995134364, 0.9274367282040814, 0.9416966631117086, 0.9632830378857691, 0.980804444725236, 0.9464354041670625, 0.9974976561035023, 0.9914810346940538, 0.9776203615288684, 0.9164232613331027, 0.9817974778827419, 0.9925244802207713, 0.9102388575000747, 0.9897289294397957, 0.9897289294397957, 0.9802413980988033, 0.9955879764519402, 0.8397797896364816, 0.9764255323383637, 0.8873769030353343, 0.8829363487373214, 0.9871803366059239, 0.9903786904354832, 0.9410819455363196, 0.8710155479869821, 0.9038481462279127, 0.97842127487815, 0.9617090367715888, 0.984391929114289, 0.9732303427111889, 0.9769331834802091, 0.9927258675022744, 0.9731676200074829, 0.9257762574192362, 0.9403498924402034, 0.9230935260051818, 0.6701956956022218, 0.9942407195404757, 0.9428970319497657, 0.9605511893610316, 0.9980620236828037], \"Term\": [\"addition\", \"aesthetic\", \"alexa\", \"amazing\", \"amazon\", \"amazonbut\", \"amazoncom\", \"apri\", \"awesome\", \"battery\", \"best\", \"better\", \"bluetooth\", \"box\", \"brain\", \"buy\", \"case\", \"changer\", \"color\", \"color\", \"commented\", \"companion\", \"compare\", \"competition\", \"component\", \"connect\", \"content\", \"cover\", \"critical\", \"decent\", \"demand\", \"device\", \"devicefell\", \"disappointed\", \"display\", \"dot\", \"download\", \"easy\", \"echo\", \"enlarged\", \"entire\", \"entry\", \"entrylevel\", \"everyday\", \"excellent\", \"exception\", \"far\", \"favorably\", \"feature\", \"feature\", \"flaw\", \"fun\", \"game\", \"gift\", \"glad\", \"god\", \"good\", \"good\", \"got\", \"goto\", \"great\", \"happier\", \"hate\", \"hbo\", \"hdx\", \"headphone\", \"headphone\", \"headphone\", \"helpful\", \"hitechlove\", \"hog\", \"holster\", \"home\", \"homework\", \"important\", \"improved\", \"inexpensive\", \"instead\", \"internal\", \"issue\", \"kept\", \"kfhd\", \"kid\", \"kindle\", \"knocked\", \"know\", \"level\", \"life\", \"like\", \"line\", \"little\", \"longevity\", \"look\", \"lot\", \"love\", \"magnetic\", \"modelbeautiful\", \"music\", \"need\", \"new\", \"nice\", \"nicer\", \"nontechie\", \"oasis\", \"oasis\", \"official\", \"overpriced\", \"paperwhite\", \"park\", \"people\", \"perfect\", \"performance\", \"person\", \"portable\", \"power\", \"price\", \"prime\", \"problem\", \"product\", \"protection\", \"quality\", \"rdgeneration\", \"read\", \"reader\", \"refreshed\", \"remote\", \"replacement\", \"review\", \"say\", \"screen\", \"sharp\", \"short\", \"shove\", \"significantly\", \"single\", \"skip\", \"sound\", \"speaker\", \"stand\", \"star\", \"streaming\", \"surprise\", \"tablet\", \"tap\", \"thats\", \"thing\", \"time\", \"tip\", \"unreal\", \"update\", \"updated\", \"upgrade\", \"use\", \"value\", \"version\", \"voice\", \"way\", \"wife\", \"work\", \"worth\", \"year\", \"yes\"]}, \"R\": 30, \"lambda.step\": 0.01, \"plot.opts\": {\"xlab\": \"PC1\", \"ylab\": \"PC2\"}, \"topic.order\": [1, 2, 5, 4, 3]};\n",
       "\n",
       "function LDAvis_load_lib(url, callback){\n",
       "  var s = document.createElement('script');\n",
       "  s.src = url;\n",
       "  s.async = true;\n",
       "  s.onreadystatechange = s.onload = callback;\n",
       "  s.onerror = function(){console.warn(\"failed to load library \" + url);};\n",
       "  document.getElementsByTagName(\"head\")[0].appendChild(s);\n",
       "}\n",
       "\n",
       "if(typeof(LDAvis) !== \"undefined\"){\n",
       "   // already loaded: just create the visualization\n",
       "   !function(LDAvis){\n",
       "       new LDAvis(\"#\" + \"ldavis_el169522695527882640836813104\", ldavis_el169522695527882640836813104_data);\n",
       "   }(LDAvis);\n",
       "}else if(typeof define === \"function\" && define.amd){\n",
       "   // require.js is available: use it to load d3/LDAvis\n",
       "   require.config({paths: {d3: \"https://d3js.org/d3.v5\"}});\n",
       "   require([\"d3\"], function(d3){\n",
       "      window.d3 = d3;\n",
       "      LDAvis_load_lib(\"https://cdn.jsdelivr.net/gh/bmabey/pyLDAvis@3.3.1/pyLDAvis/js/ldavis.v3.0.0.js\", function(){\n",
       "        new LDAvis(\"#\" + \"ldavis_el169522695527882640836813104\", ldavis_el169522695527882640836813104_data);\n",
       "      });\n",
       "    });\n",
       "}else{\n",
       "    // require.js not available: dynamically load d3 & LDAvis\n",
       "    LDAvis_load_lib(\"https://d3js.org/d3.v5.js\", function(){\n",
       "         LDAvis_load_lib(\"https://cdn.jsdelivr.net/gh/bmabey/pyLDAvis@3.3.1/pyLDAvis/js/ldavis.v3.0.0.js\", function(){\n",
       "                 new LDAvis(\"#\" + \"ldavis_el169522695527882640836813104\", ldavis_el169522695527882640836813104_data);\n",
       "            })\n",
       "         });\n",
       "}\n",
       "</script>"
      ],
      "text/plain": [
       "PreparedData(topic_coordinates=                x           y  topics  cluster       Freq\n",
       "topic                                                    \n",
       "0      150.222153  -72.269554       1        1  33.597833\n",
       "1       51.163364 -159.968018       2        1  18.009695\n",
       "4      -73.144554   21.523815       3        1  17.673898\n",
       "3      -66.410133 -110.606438       4        1  16.164790\n",
       "2       54.417324   12.443444       5        1  14.553784, topic_info=             Term        Freq       Total Category  logprob  loglift\n",
       "342       helpful  787.000000  787.000000  Default  30.0000  30.0000\n",
       "326         great  357.000000  357.000000  Default  29.0000  29.0000\n",
       "638        review  444.000000  444.000000  Default  28.0000  28.0000\n",
       "858           yes  395.000000  395.000000  Default  27.0000  27.0000\n",
       "538        people  375.000000  375.000000  Default  26.0000  26.0000\n",
       "..            ...         ...         ...      ...      ...      ...\n",
       "407          kfhd    8.126492    8.863830   Topic5  -4.9512   1.8405\n",
       "322           got    8.000420    8.749787   Topic5  -4.9668   1.8378\n",
       "200  disappointed    7.556979    8.292488   Topic5  -5.0238   1.8344\n",
       "318          good   25.927168   89.893950   Topic5  -3.7910   0.6840\n",
       "279       feature    9.121758   17.832614   Topic5  -4.8356   1.2570\n",
       "\n",
       "[190 rows x 6 columns], token_table=      Topic      Freq       Term\n",
       "term                            \n",
       "8         3  0.934249   addition\n",
       "13        2  0.889361  aesthetic\n",
       "17        4  0.982691      alexa\n",
       "24        5  0.979200    amazing\n",
       "26        3  0.985187     amazon\n",
       "...     ...       ...        ...\n",
       "838       1  0.670196       wife\n",
       "845       2  0.994241       work\n",
       "850       4  0.942897      worth\n",
       "856       5  0.960551       year\n",
       "858       1  0.998062        yes\n",
       "\n",
       "[162 rows x 3 columns], R=30, lambda_step=0.01, plot_opts={'xlab': 'PC1', 'ylab': 'PC2'}, topic_order=[1, 2, 5, 4, 3])"
      ]
     },
     "execution_count": 34,
     "metadata": {},
     "output_type": "execute_result"
    }
   ],
   "source": [
    "pyLDAvis.enable_notebook()\n",
    "panel = pyLDAvis.sklearn.prepare(lda_model, data_vectorized, vectorizer, mds='tsne')\n",
    "panel"
   ]
  },
  {
   "cell_type": "code",
   "execution_count": 35,
   "id": "53e84e50",
   "metadata": {},
   "outputs": [
    {
     "name": "stdout",
     "output_type": "stream",
     "text": [
      "5\n"
     ]
    }
   ],
   "source": [
    "print(lda_model.n_components)"
   ]
  },
  {
   "cell_type": "code",
   "execution_count": 36,
   "id": "19487b80",
   "metadata": {},
   "outputs": [],
   "source": [
    "# topicnames = [\"Topic\" + str(i) for i in range(lda_model.n_components)]"
   ]
  },
  {
   "cell_type": "code",
   "execution_count": 37,
   "id": "3588d45c",
   "metadata": {},
   "outputs": [],
   "source": [
    "topicnames = ['Helpfull','Great','Use','Awesome','Nice']"
   ]
  },
  {
   "cell_type": "code",
   "execution_count": 38,
   "id": "dcda72fe",
   "metadata": {},
   "outputs": [],
   "source": [
    "docnames = [\"Doc\" + str(i) for i in range(len(df_title))]"
   ]
  },
  {
   "cell_type": "code",
   "execution_count": 39,
   "id": "7d00053e",
   "metadata": {},
   "outputs": [
    {
     "data": {
      "text/plain": [
       "['Helpfull', 'Great', 'Use', 'Awesome', 'Nice']"
      ]
     },
     "execution_count": 39,
     "metadata": {},
     "output_type": "execute_result"
    }
   ],
   "source": [
    "topicnames"
   ]
  },
  {
   "cell_type": "code",
   "execution_count": 40,
   "id": "4ad01577",
   "metadata": {},
   "outputs": [
    {
     "data": {
      "text/plain": [
       "1580"
      ]
     },
     "execution_count": 40,
     "metadata": {},
     "output_type": "execute_result"
    }
   ],
   "source": [
    "len(docnames)"
   ]
  },
  {
   "cell_type": "code",
   "execution_count": 41,
   "id": "2b4d6f31",
   "metadata": {
    "scrolled": true
   },
   "outputs": [
    {
     "data": {
      "text/plain": [
       "1580"
      ]
     },
     "execution_count": 41,
     "metadata": {},
     "output_type": "execute_result"
    }
   ],
   "source": [
    "len(lda_output)"
   ]
  },
  {
   "cell_type": "code",
   "execution_count": 42,
   "id": "9e3a8453",
   "metadata": {
    "scrolled": true
   },
   "outputs": [
    {
     "data": {
      "text/html": [
       "<div>\n",
       "<style scoped>\n",
       "    .dataframe tbody tr th:only-of-type {\n",
       "        vertical-align: middle;\n",
       "    }\n",
       "\n",
       "    .dataframe tbody tr th {\n",
       "        vertical-align: top;\n",
       "    }\n",
       "\n",
       "    .dataframe thead th {\n",
       "        text-align: right;\n",
       "    }\n",
       "</style>\n",
       "<table border=\"1\" class=\"dataframe\">\n",
       "  <thead>\n",
       "    <tr style=\"text-align: right;\">\n",
       "      <th></th>\n",
       "      <th>Helpfull</th>\n",
       "      <th>Great</th>\n",
       "      <th>Use</th>\n",
       "      <th>Awesome</th>\n",
       "      <th>Nice</th>\n",
       "      <th>dominant_topic_index</th>\n",
       "      <th>Topic</th>\n",
       "    </tr>\n",
       "  </thead>\n",
       "  <tbody>\n",
       "    <tr>\n",
       "      <th>Doc0</th>\n",
       "      <td>0.05</td>\n",
       "      <td>0.05</td>\n",
       "      <td>0.05</td>\n",
       "      <td>0.80</td>\n",
       "      <td>0.05</td>\n",
       "      <td>3</td>\n",
       "      <td>Awesome</td>\n",
       "    </tr>\n",
       "    <tr>\n",
       "      <th>Doc1</th>\n",
       "      <td>0.07</td>\n",
       "      <td>0.07</td>\n",
       "      <td>0.40</td>\n",
       "      <td>0.40</td>\n",
       "      <td>0.07</td>\n",
       "      <td>2</td>\n",
       "      <td>Use</td>\n",
       "    </tr>\n",
       "    <tr>\n",
       "      <th>Doc2</th>\n",
       "      <td>0.05</td>\n",
       "      <td>0.55</td>\n",
       "      <td>0.05</td>\n",
       "      <td>0.05</td>\n",
       "      <td>0.30</td>\n",
       "      <td>1</td>\n",
       "      <td>Great</td>\n",
       "    </tr>\n",
       "    <tr>\n",
       "      <th>Doc3</th>\n",
       "      <td>0.30</td>\n",
       "      <td>0.05</td>\n",
       "      <td>0.05</td>\n",
       "      <td>0.05</td>\n",
       "      <td>0.55</td>\n",
       "      <td>4</td>\n",
       "      <td>Nice</td>\n",
       "    </tr>\n",
       "    <tr>\n",
       "      <th>Doc4</th>\n",
       "      <td>0.60</td>\n",
       "      <td>0.10</td>\n",
       "      <td>0.10</td>\n",
       "      <td>0.10</td>\n",
       "      <td>0.10</td>\n",
       "      <td>0</td>\n",
       "      <td>Helpfull</td>\n",
       "    </tr>\n",
       "    <tr>\n",
       "      <th>Doc5</th>\n",
       "      <td>0.58</td>\n",
       "      <td>0.24</td>\n",
       "      <td>0.02</td>\n",
       "      <td>0.02</td>\n",
       "      <td>0.13</td>\n",
       "      <td>0</td>\n",
       "      <td>Helpfull</td>\n",
       "    </tr>\n",
       "    <tr>\n",
       "      <th>Doc6</th>\n",
       "      <td>0.65</td>\n",
       "      <td>0.03</td>\n",
       "      <td>0.15</td>\n",
       "      <td>0.15</td>\n",
       "      <td>0.03</td>\n",
       "      <td>0</td>\n",
       "      <td>Helpfull</td>\n",
       "    </tr>\n",
       "    <tr>\n",
       "      <th>Doc7</th>\n",
       "      <td>0.92</td>\n",
       "      <td>0.02</td>\n",
       "      <td>0.02</td>\n",
       "      <td>0.02</td>\n",
       "      <td>0.02</td>\n",
       "      <td>0</td>\n",
       "      <td>Helpfull</td>\n",
       "    </tr>\n",
       "    <tr>\n",
       "      <th>Doc8</th>\n",
       "      <td>0.58</td>\n",
       "      <td>0.02</td>\n",
       "      <td>0.02</td>\n",
       "      <td>0.35</td>\n",
       "      <td>0.02</td>\n",
       "      <td>0</td>\n",
       "      <td>Helpfull</td>\n",
       "    </tr>\n",
       "    <tr>\n",
       "      <th>Doc9</th>\n",
       "      <td>0.58</td>\n",
       "      <td>0.24</td>\n",
       "      <td>0.02</td>\n",
       "      <td>0.02</td>\n",
       "      <td>0.13</td>\n",
       "      <td>0</td>\n",
       "      <td>Helpfull</td>\n",
       "    </tr>\n",
       "    <tr>\n",
       "      <th>Doc10</th>\n",
       "      <td>0.89</td>\n",
       "      <td>0.03</td>\n",
       "      <td>0.03</td>\n",
       "      <td>0.03</td>\n",
       "      <td>0.03</td>\n",
       "      <td>0</td>\n",
       "      <td>Helpfull</td>\n",
       "    </tr>\n",
       "    <tr>\n",
       "      <th>Doc11</th>\n",
       "      <td>0.44</td>\n",
       "      <td>0.02</td>\n",
       "      <td>0.43</td>\n",
       "      <td>0.02</td>\n",
       "      <td>0.10</td>\n",
       "      <td>0</td>\n",
       "      <td>Helpfull</td>\n",
       "    </tr>\n",
       "    <tr>\n",
       "      <th>Doc12</th>\n",
       "      <td>0.58</td>\n",
       "      <td>0.24</td>\n",
       "      <td>0.02</td>\n",
       "      <td>0.02</td>\n",
       "      <td>0.13</td>\n",
       "      <td>0</td>\n",
       "      <td>Helpfull</td>\n",
       "    </tr>\n",
       "    <tr>\n",
       "      <th>Doc13</th>\n",
       "      <td>0.05</td>\n",
       "      <td>0.80</td>\n",
       "      <td>0.05</td>\n",
       "      <td>0.05</td>\n",
       "      <td>0.05</td>\n",
       "      <td>1</td>\n",
       "      <td>Great</td>\n",
       "    </tr>\n",
       "    <tr>\n",
       "      <th>Doc14</th>\n",
       "      <td>0.04</td>\n",
       "      <td>0.64</td>\n",
       "      <td>0.04</td>\n",
       "      <td>0.04</td>\n",
       "      <td>0.24</td>\n",
       "      <td>1</td>\n",
       "      <td>Great</td>\n",
       "    </tr>\n",
       "  </tbody>\n",
       "</table>\n",
       "</div>"
      ],
      "text/plain": [
       "       Helpfull  Great   Use  Awesome  Nice  dominant_topic_index     Topic\n",
       "Doc0       0.05   0.05  0.05     0.80  0.05                     3   Awesome\n",
       "Doc1       0.07   0.07  0.40     0.40  0.07                     2       Use\n",
       "Doc2       0.05   0.55  0.05     0.05  0.30                     1     Great\n",
       "Doc3       0.30   0.05  0.05     0.05  0.55                     4      Nice\n",
       "Doc4       0.60   0.10  0.10     0.10  0.10                     0  Helpfull\n",
       "Doc5       0.58   0.24  0.02     0.02  0.13                     0  Helpfull\n",
       "Doc6       0.65   0.03  0.15     0.15  0.03                     0  Helpfull\n",
       "Doc7       0.92   0.02  0.02     0.02  0.02                     0  Helpfull\n",
       "Doc8       0.58   0.02  0.02     0.35  0.02                     0  Helpfull\n",
       "Doc9       0.58   0.24  0.02     0.02  0.13                     0  Helpfull\n",
       "Doc10      0.89   0.03  0.03     0.03  0.03                     0  Helpfull\n",
       "Doc11      0.44   0.02  0.43     0.02  0.10                     0  Helpfull\n",
       "Doc12      0.58   0.24  0.02     0.02  0.13                     0  Helpfull\n",
       "Doc13      0.05   0.80  0.05     0.05  0.05                     1     Great\n",
       "Doc14      0.04   0.64  0.04     0.04  0.24                     1     Great"
      ]
     },
     "execution_count": 42,
     "metadata": {},
     "output_type": "execute_result"
    }
   ],
   "source": [
    "# Make the pandas dataframe\n",
    "df_document_topic = pd.DataFrame(np.round(lda_output, 2), columns=topicnames, index=docnames)\n",
    "\n",
    "# Get dominant topic for each document\n",
    "dominant_topic = np.argmax(df_document_topic.values, axis=1)\n",
    "df_document_topic['dominant_topic_index'] = dominant_topic\n",
    "df_document_topic['Topic']=df_document_topic['dominant_topic_index']\n",
    "df_document_topic.replace({'Topic' : { 0 : 'Helpfull', 1 : 'Great', 2 : 'Use', 3 : 'Awesome', 4 : 'Nice'}},inplace=True)\n",
    "\n",
    "\n",
    "# Styling\n",
    "# def color_red(val):\n",
    "#     color = 'red' if val > .1 else 'black'\n",
    "#     return 'color: {col}'.format(col=color)\n",
    "\n",
    "# def make_bold(val):\n",
    "#     weight = 700 if val > .1 else 400\n",
    "#     return 'font-weight: {weight}'.format(weight=weight)\n",
    "\n",
    "# Apply Style\n",
    "df_document_topics = df_document_topic.head(15)#.style.applymap(color_red).applymap(make_bold)\n",
    "df_document_topics\n"
   ]
  },
  {
   "cell_type": "code",
   "execution_count": 43,
   "id": "78c9acf7",
   "metadata": {},
   "outputs": [],
   "source": [
    "# #Word cloud\n",
    "\n",
    "# from matplotlib import pyplot as plt\n",
    "# from wordcloud import WordCloud, STOPWORDS\n",
    "# import matplotlib.colors as mcolors\n",
    "\n",
    "# cols = [color for name, color in mcolors.TABLEAU_COLORS.items()]  # more colors: 'mcolors.XKCD_COLORS'\n",
    "\n",
    "# cloud = WordCloud(stopwords=stop,\n",
    "#                   background_color='white',\n",
    "#                   width=2500,\n",
    "#                   height=1800,\n",
    "#                   max_words=10,\n",
    "#                   colormap='tab10',\n",
    "#                   color_func=lambda *args, **kwargs: cols[i],\n",
    "#                   prefer_horizontal=1.0)\n",
    "\n",
    "# topics = lda_model.show_topics(formatted=False)\n",
    "\n",
    "# fig, axes = plt.subplots(2, 2, figsize=(10,10), sharex=True, sharey=True)\n",
    "\n",
    "# for i, ax in enumerate(axes.flatten()):\n",
    "#     fig.add_subplot(ax)\n",
    "#     topic_words = dict(topics[i][1])\n",
    "#     cloud.generate_from_frequencies(topic_words, max_font_size=300)\n",
    "#     plt.gca().imshow(cloud)\n",
    "#     plt.gca().set_title('Topic ' + str(i), fontdict=dict(size=16))\n",
    "#     plt.gca().axis('off')\n",
    "\n",
    "\n",
    "# plt.subplots_adjust(wspace=0, hspace=0)\n",
    "# plt.axis('off')\n",
    "# plt.margins(x=0, y=0)\n",
    "# plt.tight_layout()\n",
    "# plt.show()"
   ]
  },
  {
   "cell_type": "code",
   "execution_count": null,
   "id": "7c9afb54",
   "metadata": {},
   "outputs": [],
   "source": []
  }
 ],
 "metadata": {
  "kernelspec": {
   "display_name": "Python 3 (ipykernel)",
   "language": "python",
   "name": "python3"
  },
  "language_info": {
   "codemirror_mode": {
    "name": "ipython",
    "version": 3
   },
   "file_extension": ".py",
   "mimetype": "text/x-python",
   "name": "python",
   "nbconvert_exporter": "python",
   "pygments_lexer": "ipython3",
   "version": "3.8.8"
  }
 },
 "nbformat": 4,
 "nbformat_minor": 5
}
